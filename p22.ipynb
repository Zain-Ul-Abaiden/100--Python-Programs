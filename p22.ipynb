{
 "cells": [
  {
   "cell_type": "markdown",
   "metadata": {},
   "source": [
    "# Write a Python Program to Find LCM."
   ]
  },
  {
   "cell_type": "code",
   "execution_count": 1,
   "metadata": {},
   "outputs": [
    {
     "name": "stdout",
     "output_type": "stream",
     "text": [
      "The LCM of 8 and 14 is: 56\n"
     ]
    }
   ],
   "source": [
    "import math\n",
    "\n",
    "# Function to calculate LCM using GCD\n",
    "def find_lcm(x, y):\n",
    "    return abs(x * y) // math.gcd(x, y)\n",
    "\n",
    "# Taking input\n",
    "num1 = int(input(\"Enter first number: \"))\n",
    "num2 = int(input(\"Enter second number: \"))\n",
    "\n",
    "# Finding LCM\n",
    "lcm = find_lcm(num1, num2)\n",
    "\n",
    "# Printing result\n",
    "print(f\"The LCM of {num1} and {num2} is: {lcm}\")\n"
   ]
  }
 ],
 "metadata": {
  "kernelspec": {
   "display_name": "Python 3",
   "language": "python",
   "name": "python3"
  },
  "language_info": {
   "codemirror_mode": {
    "name": "ipython",
    "version": 3
   },
   "file_extension": ".py",
   "mimetype": "text/x-python",
   "name": "python",
   "nbconvert_exporter": "python",
   "pygments_lexer": "ipython3",
   "version": "3.13.2"
  }
 },
 "nbformat": 4,
 "nbformat_minor": 2
}
