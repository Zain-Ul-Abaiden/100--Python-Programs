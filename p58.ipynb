{
 "cells": [
  {
   "cell_type": "markdown",
   "metadata": {},
   "source": [
    "# Write a Python program to find uncommon words from two Strings."
   ]
  },
  {
   "cell_type": "code",
   "execution_count": 1,
   "metadata": {},
   "outputs": [
    {
     "name": "stdout",
     "output_type": "stream",
     "text": [
      "Uncommon words using set operations: {'bananas', 'apples'}\n"
     ]
    }
   ],
   "source": [
    "def find_uncommon_words_set(str1, str2):\n",
    "    # Convert both strings to lowercase and split them into sets of words\n",
    "    words1 = set(str1.lower().split())\n",
    "    words2 = set(str2.lower().split())\n",
    "    \n",
    "    # The symmetric difference gives words that are in either set but not in both\n",
    "    uncommon_words = words1.symmetric_difference(words2)\n",
    "    return uncommon_words\n",
    "\n",
    "# Example usage:\n",
    "string1 = \"I love apples and oranges\"\n",
    "string2 = \"I love oranges and bananas\"\n",
    "result_set = find_uncommon_words_set(string1, string2)\n",
    "print(\"Uncommon words using set operations:\", result_set)\n"
   ]
  }
 ],
 "metadata": {
  "kernelspec": {
   "display_name": "Python 3",
   "language": "python",
   "name": "python3"
  },
  "language_info": {
   "codemirror_mode": {
    "name": "ipython",
    "version": 3
   },
   "file_extension": ".py",
   "mimetype": "text/x-python",
   "name": "python",
   "nbconvert_exporter": "python",
   "pygments_lexer": "ipython3",
   "version": "3.13.2"
  }
 },
 "nbformat": 4,
 "nbformat_minor": 2
}
