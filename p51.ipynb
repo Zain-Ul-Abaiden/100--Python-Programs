{
 "cells": [
  {
   "cell_type": "markdown",
   "metadata": {},
   "source": [
    "#  Write a Python program to find N largest elements from a list."
   ]
  },
  {
   "cell_type": "code",
   "execution_count": 1,
   "metadata": {},
   "outputs": [
    {
     "name": "stdout",
     "output_type": "stream",
     "text": [
      "The 3 largest elements (using sorted) are: [15, 12, 9]\n"
     ]
    }
   ],
   "source": [
    "def find_n_largest_sorted(lst, n):\n",
    "    # Sort the list in descending order and take the first n elements\n",
    "    sorted_list = sorted(lst, reverse=True)\n",
    "    return sorted_list[:n]\n",
    "\n",
    "# Example usage:\n",
    "numbers = [12, 5, 7, 3, 9, 15, 8]\n",
    "n = int(input(\"Enter the number of largest elements you want: \"))\n",
    "largest_elements = find_n_largest_sorted(numbers, n)\n",
    "print(\"The\", n, \"largest elements (using sorted) are:\", largest_elements)\n"
   ]
  }
 ],
 "metadata": {
  "kernelspec": {
   "display_name": "Python 3",
   "language": "python",
   "name": "python3"
  },
  "language_info": {
   "codemirror_mode": {
    "name": "ipython",
    "version": 3
   },
   "file_extension": ".py",
   "mimetype": "text/x-python",
   "name": "python",
   "nbconvert_exporter": "python",
   "pygments_lexer": "ipython3",
   "version": "3.13.2"
  }
 },
 "nbformat": 4,
 "nbformat_minor": 2
}
