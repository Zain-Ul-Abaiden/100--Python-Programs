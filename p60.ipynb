{
 "cells": [
  {
   "cell_type": "markdown",
   "metadata": {},
   "source": [
    "# Write a python program to count sum of all vowels in a string and also tell whcih vowels occur many time.\n"
   ]
  },
  {
   "cell_type": "code",
   "execution_count": 3,
   "metadata": {},
   "outputs": [
    {
     "name": "stdout",
     "output_type": "stream",
     "text": [
      "String mein total vowels ka count: 6\n",
      "Har vowel ka frequency: {'e': 1, 'a': 2, 'i': 2, 'o': 1}\n"
     ]
    }
   ],
   "source": [
    "def count_vowels(s):\n",
    "    # Define vowels (both lower and upper case are considered)\n",
    "    vowels = \"aeiou\"\n",
    "    s = s.lower()  # Convert string to lowercase for case-insensitive counting\n",
    "    \n",
    "    # Dictionary to store frequency of each vowel\n",
    "    vowel_count = {}\n",
    "    total_count = 0\n",
    "    \n",
    "    # Count vowels in the string\n",
    "    for char in s:\n",
    "        if char in vowels:\n",
    "            total_count += 1\n",
    "            vowel_count[char] = vowel_count.get(char, 0) + 1\n",
    "    return total_count, vowel_count\n",
    "\n",
    "# Input from the user\n",
    "input_string = input(\"Ek string daalein: \")\n",
    "\n",
    "# Get the total count and frequency of vowels\n",
    "total_vowels, frequencies = count_vowels(input_string)\n",
    "\n",
    "# Display the results in Hindi\n",
    "print(\"String mein total vowels ka count:\", total_vowels)\n",
    "print(\"Har vowel ka frequency:\", frequencies)\n"
   ]
  }
 ],
 "metadata": {
  "kernelspec": {
   "display_name": "Python 3",
   "language": "python",
   "name": "python3"
  },
  "language_info": {
   "codemirror_mode": {
    "name": "ipython",
    "version": 3
   },
   "file_extension": ".py",
   "mimetype": "text/x-python",
   "name": "python",
   "nbconvert_exporter": "python",
   "pygments_lexer": "ipython3",
   "version": "3.13.2"
  }
 },
 "nbformat": 4,
 "nbformat_minor": 2
}
