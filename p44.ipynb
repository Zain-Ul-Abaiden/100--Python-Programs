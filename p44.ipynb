{
 "cells": [
  {
   "cell_type": "markdown",
   "metadata": {},
   "source": [
    "# Write a Python program to check if the given number is Happy Number."
   ]
  },
  {
   "cell_type": "code",
   "execution_count": 1,
   "metadata": {},
   "outputs": [
    {
     "name": "stdout",
     "output_type": "stream",
     "text": [
      "21 is not a Happy Number.\n"
     ]
    }
   ],
   "source": [
    "def is_happy(n):\n",
    "    seen = set()\n",
    "    while n != 1 and n not in seen:\n",
    "        seen.add(n)\n",
    "        # Compute the sum of squares of digits\n",
    "        n = sum(int(digit) ** 2 for digit in str(n))\n",
    "    return n == 1\n",
    "\n",
    "# Accept user input\n",
    "number = int(input(\"Enter a number: \"))\n",
    "\n",
    "# Check if the number is happy and display the result\n",
    "if is_happy(number):\n",
    "    print(f\"{number} is a Happy Number.\")\n",
    "else:\n",
    "    print(f\"{number} is not a Happy Number.\")\n"
   ]
  }
 ],
 "metadata": {
  "kernelspec": {
   "display_name": "Python 3",
   "language": "python",
   "name": "python3"
  },
  "language_info": {
   "codemirror_mode": {
    "name": "ipython",
    "version": 3
   },
   "file_extension": ".py",
   "mimetype": "text/x-python",
   "name": "python",
   "nbconvert_exporter": "python",
   "pygments_lexer": "ipython3",
   "version": "3.13.2"
  }
 },
 "nbformat": 4,
 "nbformat_minor": 2
}
