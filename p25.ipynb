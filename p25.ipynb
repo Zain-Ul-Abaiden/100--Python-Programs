{
 "cells": [
  {
   "cell_type": "markdown",
   "metadata": {},
   "source": [
    "# Write a Python Program To Find ASCII value of a character."
   ]
  },
  {
   "cell_type": "code",
   "execution_count": 1,
   "metadata": {},
   "outputs": [
    {
     "name": "stdout",
     "output_type": "stream",
     "text": [
      "The ASCII value of 'a' is: 97\n"
     ]
    }
   ],
   "source": [
    "# Taking user input\n",
    "char = input(\"Enter a character: \")\n",
    "\n",
    "# Ensure only one character is entered\n",
    "if len(char) != 1:\n",
    "    print(\"Please enter a single character.\")\n",
    "else:\n",
    "    # Getting ASCII value using ord() function\n",
    "    ascii_value = ord(char)\n",
    "\n",
    "    # Printing the result\n",
    "    print(f\"The ASCII value of '{char}' is: {ascii_value}\")\n"
   ]
  }
 ],
 "metadata": {
  "kernelspec": {
   "display_name": "Python 3",
   "language": "python",
   "name": "python3"
  },
  "language_info": {
   "codemirror_mode": {
    "name": "ipython",
    "version": 3
   },
   "file_extension": ".py",
   "mimetype": "text/x-python",
   "name": "python",
   "nbconvert_exporter": "python",
   "pygments_lexer": "ipython3",
   "version": "3.13.2"
  }
 },
 "nbformat": 4,
 "nbformat_minor": 2
}
