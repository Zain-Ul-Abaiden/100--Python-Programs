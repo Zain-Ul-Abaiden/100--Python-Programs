{
 "cells": [
  {
   "cell_type": "markdown",
   "metadata": {},
   "source": [
    "#  Write a Python program to find smallest number in a list."
   ]
  },
  {
   "cell_type": "code",
   "execution_count": 1,
   "metadata": {},
   "outputs": [
    {
     "name": "stdout",
     "output_type": "stream",
     "text": [
      "The smallest number in the list is: -45\n"
     ]
    }
   ],
   "source": [
    "# Sample list of numbers\n",
    "numbers = [30, 10, -45, 5, 20]\n",
    " # Initialize a variable to store the minimum value, initially set to th\n",
    "minimum = numbers[0]\n",
    " # Iterate through the list and update the minimum value if a smaller nu\n",
    "for i in numbers:\n",
    "    if i < minimum:\n",
    "        minimum = i\n",
    " # Print the minimum value\n",
    "print(\"The smallest number in the list is:\", minimum)"
   ]
  }
 ],
 "metadata": {
  "kernelspec": {
   "display_name": "Python 3",
   "language": "python",
   "name": "python3"
  },
  "language_info": {
   "codemirror_mode": {
    "name": "ipython",
    "version": 3
   },
   "file_extension": ".py",
   "mimetype": "text/x-python",
   "name": "python",
   "nbconvert_exporter": "python",
   "pygments_lexer": "ipython3",
   "version": "3.13.2"
  }
 },
 "nbformat": 4,
 "nbformat_minor": 2
}
