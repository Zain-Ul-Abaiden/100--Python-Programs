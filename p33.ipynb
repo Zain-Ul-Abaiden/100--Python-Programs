{
 "cells": [
  {
   "cell_type": "markdown",
   "metadata": {},
   "source": [
    "# Write a Python Program to find sum of array."
   ]
  },
  {
   "cell_type": "code",
   "execution_count": 1,
   "metadata": {},
   "outputs": [
    {
     "name": "stdout",
     "output_type": "stream",
     "text": [
      "The sum of the array elements is: 15\n"
     ]
    }
   ],
   "source": [
    "# Function to calculate the sum of elements in an array\n",
    "def sum_of_array(arr):\n",
    "    return sum(arr)  # Using Python's built-in sum() function\n",
    "\n",
    "# Taking user input for array elements\n",
    "arr = list(map(int, input(\"Enter the elements of the array separated by spaces: \").split()))\n",
    "\n",
    "# Calculating the sum of the array\n",
    "result = sum_of_array(arr)\n",
    "\n",
    "# Displaying the result\n",
    "print(f\"The sum of the array elements is: {result}\")\n"
   ]
  }
 ],
 "metadata": {
  "kernelspec": {
   "display_name": "Python 3",
   "language": "python",
   "name": "python3"
  },
  "language_info": {
   "codemirror_mode": {
    "name": "ipython",
    "version": 3
   },
   "file_extension": ".py",
   "mimetype": "text/x-python",
   "name": "python",
   "nbconvert_exporter": "python",
   "pygments_lexer": "ipython3",
   "version": "3.13.2"
  }
 },
 "nbformat": 4,
 "nbformat_minor": 2
}
