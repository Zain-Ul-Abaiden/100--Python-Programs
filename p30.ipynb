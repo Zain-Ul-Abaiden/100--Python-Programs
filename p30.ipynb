{
 "cells": [
  {
   "cell_type": "markdown",
   "metadata": {},
   "source": [
    "# Write a Python Program to calculate the natural logarithm of any number."
   ]
  },
  {
   "cell_type": "code",
   "execution_count": 1,
   "metadata": {},
   "outputs": [
    {
     "name": "stdout",
     "output_type": "stream",
     "text": [
      "The natural logarithm (ln) of 23.0 is: 3.1355\n"
     ]
    }
   ],
   "source": [
    "import math\n",
    "\n",
    "# Taking user input\n",
    "num = float(input(\"Enter a number to calculate its natural logarithm: \"))\n",
    "\n",
    "# Checking if the number is positive (logarithm is undefined for non-positive numbers)\n",
    "if num > 0:\n",
    "    # Calculating natural logarithm using math.log()\n",
    "    natural_log = math.log(num)\n",
    "    print(f\"The natural logarithm (ln) of {num} is: {natural_log:.4f}\")\n",
    "else:\n",
    "    print(\"Error! Natural logarithm is only defined for positive numbers.\")\n"
   ]
  }
 ],
 "metadata": {
  "kernelspec": {
   "display_name": "Python 3",
   "language": "python",
   "name": "python3"
  },
  "language_info": {
   "codemirror_mode": {
    "name": "ipython",
    "version": 3
   },
   "file_extension": ".py",
   "mimetype": "text/x-python",
   "name": "python",
   "nbconvert_exporter": "python",
   "pygments_lexer": "ipython3",
   "version": "3.13.2"
  }
 },
 "nbformat": 4,
 "nbformat_minor": 2
}
