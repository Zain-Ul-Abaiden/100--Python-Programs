{
 "cells": [
  {
   "cell_type": "markdown",
   "metadata": {},
   "source": [
    "# Write a Python Program to find largest element in an array."
   ]
  },
  {
   "cell_type": "code",
   "execution_count": 1,
   "metadata": {},
   "outputs": [
    {
     "name": "stdout",
     "output_type": "stream",
     "text": [
      "The largest element in the array is: 5\n"
     ]
    }
   ],
   "source": [
    "# Function to find the largest element in an array\n",
    "def find_largest(arr):\n",
    "    if len(arr) == 0:\n",
    "        return None  # Handle empty array case\n",
    "    return max(arr)  # Using built-in max() function\n",
    "\n",
    "# Taking user input for array elements\n",
    "arr = list(map(int, input(\"Enter the elements of the array separated by spaces: \").split()))\n",
    "\n",
    "# Finding the largest element\n",
    "largest = find_largest(arr)\n",
    "\n",
    "# Displaying the result\n",
    "if largest is not None:\n",
    "    print(f\"The largest element in the array is: {largest}\")\n",
    "else:\n",
    "    print(\"The array is empty. Please enter valid numbers.\")\n"
   ]
  }
 ],
 "metadata": {
  "kernelspec": {
   "display_name": "Python 3",
   "language": "python",
   "name": "python3"
  },
  "language_info": {
   "codemirror_mode": {
    "name": "ipython",
    "version": 3
   },
   "file_extension": ".py",
   "mimetype": "text/x-python",
   "name": "python",
   "nbconvert_exporter": "python",
   "pygments_lexer": "ipython3",
   "version": "3.13.2"
  }
 },
 "nbformat": 4,
 "nbformat_minor": 2
}
