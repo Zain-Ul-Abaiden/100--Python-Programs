{
 "cells": [
  {
   "cell_type": "markdown",
   "metadata": {},
   "source": [
    "# Write a Python program to find second largest number in a list."
   ]
  },
  {
   "cell_type": "code",
   "execution_count": 1,
   "metadata": {},
   "outputs": [
    {
     "name": "stdout",
     "output_type": "stream",
     "text": [
      "The second largest number in the list is: 30\n"
     ]
    }
   ],
   "source": [
    " # Sample list of numbers\n",
    "numbers = [30, 10, 45, 5, 20]\n",
    " # Sort the list in descending order\n",
    "numbers.sort(reverse=True)\n",
    " # Check if there are at least two elements in the list\n",
    "if len(numbers) >= 2:\n",
    "    second_largest = numbers[1]\n",
    "    print(\"The second largest number in the list is:\", second_largest)\n",
    "else:\n",
    "    print(\"The list does not contain a second largest number.\")"
   ]
  }
 ],
 "metadata": {
  "kernelspec": {
   "display_name": "Python 3",
   "language": "python",
   "name": "python3"
  },
  "language_info": {
   "codemirror_mode": {
    "name": "ipython",
    "version": 3
   },
   "file_extension": ".py",
   "mimetype": "text/x-python",
   "name": "python",
   "nbconvert_exporter": "python",
   "pygments_lexer": "ipython3",
   "version": "3.13.2"
  }
 },
 "nbformat": 4,
 "nbformat_minor": 2
}
