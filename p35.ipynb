{
 "cells": [
  {
   "cell_type": "markdown",
   "metadata": {},
   "source": [
    "# Write a Python Program for array rotation."
   ]
  },
  {
   "cell_type": "code",
   "execution_count": 1,
   "metadata": {},
   "outputs": [
    {
     "name": "stdout",
     "output_type": "stream",
     "text": [
      "Rotated array: [3, 4, 5, 1, 2]\n"
     ]
    }
   ],
   "source": [
    "# Function to rotate an array to the left by 'd' positions\n",
    "def rotate_array(arr, d):\n",
    "    n = len(arr)\n",
    "    d = d % n  # Handling cases where d > n\n",
    "    return arr[d:] + arr[:d]  # Rotating using slicing\n",
    "\n",
    "# Taking user input for array elements\n",
    "arr = list(map(int, input(\"Enter the elements of the array separated by spaces: \").split()))\n",
    "\n",
    "# Taking user input for the number of positions to rotate\n",
    "d = int(input(\"Enter the number of positions to rotate: \"))\n",
    "\n",
    "# Rotating the array\n",
    "rotated_arr = rotate_array(arr, d)\n",
    "\n",
    "# Displaying the rotated array\n",
    "print(\"Rotated array:\", rotated_arr)\n"
   ]
  }
 ],
 "metadata": {
  "kernelspec": {
   "display_name": "Python 3",
   "language": "python",
   "name": "python3"
  },
  "language_info": {
   "codemirror_mode": {
    "name": "ipython",
    "version": 3
   },
   "file_extension": ".py",
   "mimetype": "text/x-python",
   "name": "python",
   "nbconvert_exporter": "python",
   "pygments_lexer": "ipython3",
   "version": "3.13.2"
  }
 },
 "nbformat": 4,
 "nbformat_minor": 2
}
