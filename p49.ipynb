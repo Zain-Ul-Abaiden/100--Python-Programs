{
 "cells": [
  {
   "cell_type": "markdown",
   "metadata": {},
   "source": [
    "# Write a Python program to find largest number in a list."
   ]
  },
  {
   "cell_type": "code",
   "execution_count": 3,
   "metadata": {},
   "outputs": [
    {
     "name": "stdout",
     "output_type": "stream",
     "text": [
      "The largest number in the list is: 30\n"
     ]
    }
   ],
   "source": [
    "# Sample list of numbers\n",
    "numbers = [30, 10, -45, 5, 20]\n",
    " # Initialize a variable to store the maximum value, initially set to th\n",
    "maximum = numbers[0]\n",
    " # Iterate through the list and update the maximum value if a smaller nu\n",
    "for i in numbers:\n",
    "    if i > maximum:\n",
    "        maximum = i\n",
    " # Print the maximum value\n",
    "print(\"The largest number in the list is:\", maximum)"
   ]
  }
 ],
 "metadata": {
  "kernelspec": {
   "display_name": "Python 3",
   "language": "python",
   "name": "python3"
  },
  "language_info": {
   "codemirror_mode": {
    "name": "ipython",
    "version": 3
   },
   "file_extension": ".py",
   "mimetype": "text/x-python",
   "name": "python",
   "nbconvert_exporter": "python",
   "pygments_lexer": "ipython3",
   "version": "3.13.2"
  }
 },
 "nbformat": 4,
 "nbformat_minor": 2
}
