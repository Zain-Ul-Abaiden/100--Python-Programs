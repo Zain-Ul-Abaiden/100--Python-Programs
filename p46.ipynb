{
 "cells": [
  {
   "cell_type": "markdown",
   "metadata": {},
   "source": [
    "# Write a Python program to find the Sum of elements in the list."
   ]
  },
  {
   "cell_type": "code",
   "execution_count": 1,
   "metadata": {},
   "outputs": [
    {
     "name": "stdout",
     "output_type": "stream",
     "text": [
      "Sum of elements in the list: 150\n"
     ]
    }
   ],
   "source": [
    " # Sample list of numbers\n",
    "numbers = [10, 20, 30, 40, 50]\n",
    " # Initialize a variable to store the sum\n",
    "sum_of_numbers = 0\n",
    " # Iterate through the list and accumulate the sum\n",
    "for i in numbers:\n",
    "    sum_of_numbers += i\n",
    " # Print the sum\n",
    "print(\"Sum of elements in the list:\", sum_of_numbers)"
   ]
  }
 ],
 "metadata": {
  "kernelspec": {
   "display_name": "Python 3",
   "language": "python",
   "name": "python3"
  },
  "language_info": {
   "codemirror_mode": {
    "name": "ipython",
    "version": 3
   },
   "file_extension": ".py",
   "mimetype": "text/x-python",
   "name": "python",
   "nbconvert_exporter": "python",
   "pygments_lexer": "ipython3",
   "version": "3.13.2"
  }
 },
 "nbformat": 4,
 "nbformat_minor": 2
}
