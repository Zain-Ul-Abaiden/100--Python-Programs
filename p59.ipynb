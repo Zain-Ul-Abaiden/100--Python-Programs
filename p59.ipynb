{
 "cells": [
  {
   "cell_type": "markdown",
   "metadata": {},
   "source": [
    "# Write a Python program to find all duplicate characters in string."
   ]
  },
  {
   "cell_type": "code",
   "execution_count": 1,
   "metadata": {},
   "outputs": [
    {
     "name": "stdout",
     "output_type": "stream",
     "text": [
      "Duplicate characters and their counts: {'a': 2, ' ': 3, ',': 2}\n"
     ]
    }
   ],
   "source": [
    "from collections import Counter\n",
    "\n",
    "def find_duplicate_characters(s):\n",
    "    # Count the frequency of each character in the string\n",
    "    char_count = Counter(s)\n",
    "    # Filter and return characters that appear more than once\n",
    "    duplicates = {char: count for char, count in char_count.items() if count > 1}\n",
    "    return duplicates\n",
    "\n",
    "# Example usage:\n",
    "input_string = input(\"Enter a string: \")\n",
    "duplicates = find_duplicate_characters(input_string)\n",
    "print(\"Duplicate characters and their counts:\", duplicates)\n"
   ]
  }
 ],
 "metadata": {
  "kernelspec": {
   "display_name": "Python 3",
   "language": "python",
   "name": "python3"
  },
  "language_info": {
   "codemirror_mode": {
    "name": "ipython",
    "version": 3
   },
   "file_extension": ".py",
   "mimetype": "text/x-python",
   "name": "python",
   "nbconvert_exporter": "python",
   "pygments_lexer": "ipython3",
   "version": "3.13.2"
  }
 },
 "nbformat": 4,
 "nbformat_minor": 2
}
