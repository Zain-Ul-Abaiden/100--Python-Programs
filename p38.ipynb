{
 "cells": [
  {
   "cell_type": "markdown",
   "metadata": {},
   "source": [
    "#  Write a Python Program to Add Two Matrices"
   ]
  },
  {
   "cell_type": "code",
   "execution_count": 1,
   "metadata": {},
   "outputs": [
    {
     "name": "stdout",
     "output_type": "stream",
     "text": [
      "Matrix 1:\n",
      "Enter elements for a 2x2 matrix row-wise:\n",
      "Error! Please enter exactly 2 numbers for this row.\n",
      "Matrix 2:\n",
      "Enter elements for a 2x2 matrix row-wise:\n",
      "Error! Please enter exactly 2 numbers for this row.\n",
      "Invalid input. Please try again.\n"
     ]
    }
   ],
   "source": [
    "# Function to add two matrices\n",
    "def add_matrices(matrix1, matrix2):\n",
    "    rows = len(matrix1)\n",
    "    cols = len(matrix1[0])\n",
    "    \n",
    "    # Creating result matrix with the same dimensions\n",
    "    result = [[0 for _ in range(cols)] for _ in range(rows)]\n",
    "    \n",
    "    # Performing element-wise addition\n",
    "    for i in range(rows):\n",
    "        for j in range(cols):\n",
    "            result[i][j] = matrix1[i][j] + matrix2[i][j]\n",
    "    \n",
    "    return result\n",
    "\n",
    "# Taking user input for matrices\n",
    "def input_matrix(rows, cols):\n",
    "    print(f\"Enter elements for a {rows}x{cols} matrix row-wise:\")\n",
    "    matrix = []\n",
    "    for i in range(rows):\n",
    "        row = list(map(int, input().split()))\n",
    "        if len(row) != cols:\n",
    "            print(f\"Error! Please enter exactly {cols} numbers for this row.\")\n",
    "            return None\n",
    "        matrix.append(row)\n",
    "    return matrix\n",
    "\n",
    "# Taking dimensions from the user\n",
    "rows = int(input(\"Enter the number of rows: \"))\n",
    "cols = int(input(\"Enter the number of columns: \"))\n",
    "\n",
    "# Getting user input for both matrices\n",
    "print(\"Matrix 1:\")\n",
    "matrix1 = input_matrix(rows, cols)\n",
    "print(\"Matrix 2:\")\n",
    "matrix2 = input_matrix(rows, cols)\n",
    "\n",
    "# Checking if both matrices are valid\n",
    "if matrix1 and matrix2:\n",
    "    # Adding matrices\n",
    "    result_matrix = add_matrices(matrix1, matrix2)\n",
    "\n",
    "    # Displaying the result\n",
    "    print(\"Resultant Matrix after addition:\")\n",
    "    for row in result_matrix:\n",
    "        print(\" \".join(map(str, row)))\n",
    "else:\n",
    "    print(\"Invalid input. Please try again.\")\n"
   ]
  }
 ],
 "metadata": {
  "kernelspec": {
   "display_name": "Python 3",
   "language": "python",
   "name": "python3"
  },
  "language_info": {
   "codemirror_mode": {
    "name": "ipython",
    "version": 3
   },
   "file_extension": ".py",
   "mimetype": "text/x-python",
   "name": "python",
   "nbconvert_exporter": "python",
   "pygments_lexer": "ipython3",
   "version": "3.13.2"
  }
 },
 "nbformat": 4,
 "nbformat_minor": 2
}
