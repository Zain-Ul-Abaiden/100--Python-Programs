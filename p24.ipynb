{
 "cells": [
  {
   "cell_type": "markdown",
   "metadata": {},
   "source": [
    "# Write a Python Program to Convert Decimal to Binary, Octal and Hexadecimal."
   ]
  },
  {
   "cell_type": "code",
   "execution_count": 3,
   "metadata": {},
   "outputs": [
    {
     "name": "stdout",
     "output_type": "stream",
     "text": [
      "Binary representation: 11001\n",
      "Octal representation: 31\n",
      "Hexadecimal representation: 19\n"
     ]
    }
   ],
   "source": [
    "# Taking user input\n",
    "decimal = int(input(\"Enter a decimal number: \"))\n",
    "\n",
    "# Converting to different number systems\n",
    "binary = bin(decimal)[2:]  # Removing '0b' prefix\n",
    "octal = oct(decimal)[2:]    # Removing '0o' prefix\n",
    "hexadecimal = hex(decimal)[2:].upper()  # Removing '0x' prefix and converting to uppercase\n",
    "\n",
    "# Printing the results\n",
    "print(f\"Binary representation: {binary}\")\n",
    "print(f\"Octal representation: {octal}\")\n",
    "print(f\"Hexadecimal representation: {hexadecimal}\")\n"
   ]
  }
 ],
 "metadata": {
  "kernelspec": {
   "display_name": "Python 3",
   "language": "python",
   "name": "python3"
  },
  "language_info": {
   "codemirror_mode": {
    "name": "ipython",
    "version": 3
   },
   "file_extension": ".py",
   "mimetype": "text/x-python",
   "name": "python",
   "nbconvert_exporter": "python",
   "pygments_lexer": "ipython3",
   "version": "3.13.2"
  }
 },
 "nbformat": 4,
 "nbformat_minor": 2
}
