{
 "cells": [
  {
   "cell_type": "markdown",
   "metadata": {},
   "source": [
    "# Write a Python Program to check if given array is Monotonic."
   ]
  },
  {
   "cell_type": "code",
   "execution_count": 1,
   "metadata": {},
   "outputs": [
    {
     "name": "stdout",
     "output_type": "stream",
     "text": [
      "arr1 is monotonic: True\n",
      "arr2 is monotonic: True\n",
      "arr3 is monotonic: False\n"
     ]
    }
   ],
   "source": [
    "def is_monotonic(arr):\n",
    "    increasing = decreasing = True\n",
    "    for i in range(1, len(arr)):\n",
    "        if arr[i] > arr[i - 1]:\n",
    "            decreasing = False\n",
    "        elif arr[i] < arr[i - 1]:\n",
    "            increasing = False\n",
    "    return increasing or decreasing\n",
    " # Test the function\n",
    "arr1 = [1, 2, 2, 3]  # Monotonic (non-decreasing)\n",
    "arr2 = [3, 2, 1]     \n",
    "# Monotonic (non-increasing)\n",
    "arr3 = [1, 3, 2, 4]  # Not monotonic\n",
    "print(\"arr1 is monotonic:\", is_monotonic(arr1))\n",
    "print(\"arr2 is monotonic:\", is_monotonic(arr2))\n",
    "print(\"arr3 is monotonic:\", is_monotonic(arr3))"
   ]
  }
 ],
 "metadata": {
  "kernelspec": {
   "display_name": "Python 3",
   "language": "python",
   "name": "python3"
  },
  "language_info": {
   "codemirror_mode": {
    "name": "ipython",
    "version": 3
   },
   "file_extension": ".py",
   "mimetype": "text/x-python",
   "name": "python",
   "nbconvert_exporter": "python",
   "pygments_lexer": "ipython3",
   "version": "3.13.2"
  }
 },
 "nbformat": 4,
 "nbformat_minor": 2
}
