{
 "cells": [
  {
   "cell_type": "markdown",
   "metadata": {},
   "source": [
    "# Write a Python program to determine whether the given number is a Harshad Number."
   ]
  },
  {
   "cell_type": "code",
   "execution_count": 1,
   "metadata": {},
   "outputs": [
    {
     "name": "stdout",
     "output_type": "stream",
     "text": [
      "23 is not a Harshad Number.\n"
     ]
    }
   ],
   "source": [
    "def is_harshad(number):\n",
    "    # Convert the number to a string to extract each digit and calculate the sum of digits.\n",
    "    digit_sum = sum(int(digit) for digit in str(number))\n",
    "    # Check for division by zero (though not necessary for positive integers)\n",
    "    if digit_sum == 0:\n",
    "        return False\n",
    "    # A number is a Harshad number if it's divisible by the sum of its digits.\n",
    "    return number % digit_sum == 0\n",
    "\n",
    "# Accept user input\n",
    "number = int(input(\"Enter a number: \"))\n",
    "\n",
    "# Check and display whether the number is a Harshad Number\n",
    "if is_harshad(number):\n",
    "    print(f\"{number} is a Harshad Number.\")\n",
    "else:\n",
    "    print(f\"{number} is not a Harshad Number.\")\n"
   ]
  }
 ],
 "metadata": {
  "kernelspec": {
   "display_name": "Python 3",
   "language": "python",
   "name": "python3"
  },
  "language_info": {
   "codemirror_mode": {
    "name": "ipython",
    "version": 3
   },
   "file_extension": ".py",
   "mimetype": "text/x-python",
   "name": "python",
   "nbconvert_exporter": "python",
   "pygments_lexer": "ipython3",
   "version": "3.13.2"
  }
 },
 "nbformat": 4,
 "nbformat_minor": 2
}
