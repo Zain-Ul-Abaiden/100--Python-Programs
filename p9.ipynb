{
 "cells": [
  {
   "cell_type": "markdown",
   "metadata": {},
   "source": [
    "# Write a Python program to solve quadratic equation."
   ]
  },
  {
   "cell_type": "code",
   "execution_count": 1,
   "metadata": {},
   "outputs": [
    {
     "name": "stdout",
     "output_type": "stream",
     "text": [
      "Root 1: -2.0 + 2.0i\n",
      "Root 2: -2.0 - 2.0i\n"
     ]
    }
   ],
   "source": [
    "import math\n",
    "# Input coefficients\n",
    "a = float(input(\"Enter coefficient a: \"))\n",
    "b = float(input(\"Enter coefficient b: \"))\n",
    "c = float(input(\"Enter coefficient c: \"))\n",
    "# Calculate the discriminant\n",
    "discriminant = b**2 - 4*a*c\n",
    "# Check if the discriminant is positive, negative, or zero\n",
    "if discriminant > 0:\n",
    " # Two real and distinct roots\n",
    " root1 = (-b + math.sqrt(discriminant)) / (2*a)\n",
    " root2 = (-b - math.sqrt(discriminant)) / (2*a)\n",
    " print(f\"Root 1: {root1}\")\n",
    " print(f\"Root 2: {root2}\")\n",
    "elif discriminant == 0:\n",
    " # One real root (repeated)\n",
    " root = -b / (2*a)\n",
    " print(f\"Root: {root}\")\n",
    "else:\n",
    " # Complex roots\n",
    " real_part = -b / (2*a)\n",
    " imaginary_part = math.sqrt(abs(discriminant)) / (2*a)\n",
    " print(f\"Root 1: {real_part} + {imaginary_part}i\")\n",
    " print(f\"Root 2: {real_part} - {imaginary_part}i\")"
   ]
  }
 ],
 "metadata": {
  "kernelspec": {
   "display_name": "Python 3",
   "language": "python",
   "name": "python3"
  },
  "language_info": {
   "codemirror_mode": {
    "name": "ipython",
    "version": 3
   },
   "file_extension": ".py",
   "mimetype": "text/x-python",
   "name": "python",
   "nbconvert_exporter": "python",
   "pygments_lexer": "ipython3",
   "version": "3.13.2"
  }
 },
 "nbformat": 4,
 "nbformat_minor": 2
}
