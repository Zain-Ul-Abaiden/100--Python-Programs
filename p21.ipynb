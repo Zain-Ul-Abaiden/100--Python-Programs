{
 "cells": [
  {
   "cell_type": "markdown",
   "metadata": {},
   "source": [
    "# Write a Python Program to Find the Sum of Natural Numbers."
   ]
  },
  {
   "cell_type": "code",
   "execution_count": 1,
   "metadata": {},
   "outputs": [
    {
     "name": "stdout",
     "output_type": "stream",
     "text": [
      "The sum of the first 10 natural numbers is: 55\n"
     ]
    }
   ],
   "source": [
    "# Taking user input\n",
    "n = int(input(\"Enter a positive integer: \"))\n",
    "\n",
    "# Check if the number is positive\n",
    "if n < 1:\n",
    "    print(\"Please enter a positive integer.\")\n",
    "else:\n",
    "    # Using the formula: Sum = n * (n + 1) / 2\n",
    "    sum_natural = n * (n + 1) // 2\n",
    "    \n",
    "    # Printing the result\n",
    "    print(f\"The sum of the first {n} natural numbers is: {sum_natural}\")"
   ]
  }
 ],
 "metadata": {
  "kernelspec": {
   "display_name": "Python 3",
   "language": "python",
   "name": "python3"
  },
  "language_info": {
   "codemirror_mode": {
    "name": "ipython",
    "version": 3
   },
   "file_extension": ".py",
   "mimetype": "text/x-python",
   "name": "python",
   "nbconvert_exporter": "python",
   "pygments_lexer": "ipython3",
   "version": "3.13.2"
  }
 },
 "nbformat": 4,
 "nbformat_minor": 2
}
