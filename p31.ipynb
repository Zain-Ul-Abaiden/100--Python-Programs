{
 "cells": [
  {
   "cell_type": "markdown",
   "metadata": {},
   "source": [
    "# Write a Python Program for cube sum of first n natural numbers?"
   ]
  },
  {
   "cell_type": "code",
   "execution_count": 1,
   "metadata": {},
   "outputs": [
    {
     "name": "stdout",
     "output_type": "stream",
     "text": [
      "The cube sum of the first 3 natural numbers is: 36\n"
     ]
    }
   ],
   "source": [
    "# Function to calculate cube sum of first n natural numbers\n",
    "def cube_sum(n):\n",
    "    return (n * (n + 1) // 2) ** 2  # Using the formula\n",
    "\n",
    "# Taking user input\n",
    "num = int(input(\"Enter a natural number (n): \"))\n",
    "\n",
    "# Checking if input is a natural number\n",
    "if num > 0:\n",
    "    result = cube_sum(num)\n",
    "    print(f\"The cube sum of the first {num} natural numbers is: {result}\")\n",
    "else:\n",
    "    print(\"Please enter a positive natural number.\")\n"
   ]
  }
 ],
 "metadata": {
  "kernelspec": {
   "display_name": "Python 3",
   "language": "python",
   "name": "python3"
  },
  "language_info": {
   "codemirror_mode": {
    "name": "ipython",
    "version": 3
   },
   "file_extension": ".py",
   "mimetype": "text/x-python",
   "name": "python",
   "nbconvert_exporter": "python",
   "pygments_lexer": "ipython3",
   "version": "3.13.2"
  }
 },
 "nbformat": 4,
 "nbformat_minor": 2
}
