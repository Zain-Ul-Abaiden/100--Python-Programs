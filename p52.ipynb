{
 "cells": [
  {
   "cell_type": "markdown",
   "metadata": {},
   "source": [
    "# Write a Python program to print even numbers in a list."
   ]
  },
  {
   "cell_type": "code",
   "execution_count": 1,
   "metadata": {},
   "outputs": [
    {
     "name": "stdout",
     "output_type": "stream",
     "text": [
      "Even numbers in the list: [2, 4, 6, 8, 10]\n"
     ]
    }
   ],
   "source": [
    "def print_even_numbers(numbers):\n",
    "    # Filter even numbers using list comprehension\n",
    "    even_numbers = [num for num in numbers if num % 2 == 0]\n",
    "    # Print the even numbers\n",
    "    print(\"Even numbers in the list:\", even_numbers)\n",
    "\n",
    "# Example list\n",
    "numbers = [1, 2, 3, 4, 5, 6, 7, 8, 9, 10]\n",
    "print_even_numbers(numbers)\n"
   ]
  }
 ],
 "metadata": {
  "kernelspec": {
   "display_name": "Python 3",
   "language": "python",
   "name": "python3"
  },
  "language_info": {
   "codemirror_mode": {
    "name": "ipython",
    "version": 3
   },
   "file_extension": ".py",
   "mimetype": "text/x-python",
   "name": "python",
   "nbconvert_exporter": "python",
   "pygments_lexer": "ipython3",
   "version": "3.13.2"
  }
 },
 "nbformat": 4,
 "nbformat_minor": 2
}
