{
 "cells": [
  {
   "cell_type": "markdown",
   "metadata": {},
   "source": [
    "# Write a Python program to split and join a string."
   ]
  },
  {
   "cell_type": "code",
   "execution_count": 1,
   "metadata": {},
   "outputs": [
    {
     "name": "stdout",
     "output_type": "stream",
     "text": [
      "Original String: Python program to split and join a string\n",
      "List of split Words: ['Python', 'program', 'to', 'split', 'and', 'join', 'a', 'string']\n",
      "Joined String: Python program to split and join a string\n"
     ]
    }
   ],
   "source": [
    "# Split a string into a list of words\n",
    "input_str = \"Python program to split and join a string\"\n",
    "word_list = input_str.split()  # By default, split on whitespace\n",
    " # Join the list of words into a string\n",
    "separator = \" \" # specify the separator between words\n",
    "output_str = separator.join(word_list)\n",
    " # Print the results\n",
    "print(\"Original String:\", input_str)\n",
    "print(\"List of split Words:\", word_list)\n",
    "print(\"Joined String:\", output_str)"
   ]
  }
 ],
 "metadata": {
  "kernelspec": {
   "display_name": "Python 3",
   "language": "python",
   "name": "python3"
  },
  "language_info": {
   "codemirror_mode": {
    "name": "ipython",
    "version": 3
   },
   "file_extension": ".py",
   "mimetype": "text/x-python",
   "name": "python",
   "nbconvert_exporter": "python",
   "pygments_lexer": "ipython3",
   "version": "3.13.2"
  }
 },
 "nbformat": 4,
 "nbformat_minor": 2
}
