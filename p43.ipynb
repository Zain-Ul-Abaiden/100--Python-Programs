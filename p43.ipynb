{
 "cells": [
  {
   "cell_type": "markdown",
   "metadata": {},
   "source": [
    "# Write a Python program to check if the given number is a Disarium Number."
   ]
  },
  {
   "cell_type": "code",
   "execution_count": 1,
   "metadata": {},
   "outputs": [
    {
     "name": "stdout",
     "output_type": "stream",
     "text": [
      "34 is not a Disarium number.\n"
     ]
    }
   ],
   "source": [
    "def is_disarium(num):\n",
    "    # Convert the number to a string to iterate over its digits\n",
    "    digits = str(num)\n",
    "    # Calculate the sum of each digit raised to its positional power (1-indexed)\n",
    "    total = sum(int(digit) ** (index + 1) for index, digit in enumerate(digits))\n",
    "    return total == num\n",
    "\n",
    "# Accept user input\n",
    "number = int(input(\"Enter a number: \"))\n",
    "\n",
    "# Check and display whether the number is a Disarium Number\n",
    "if is_disarium(number):\n",
    "    print(f\"{number} is a Disarium number.\")\n",
    "else:\n",
    "    print(f\"{number} is not a Disarium number.\")\n"
   ]
  }
 ],
 "metadata": {
  "kernelspec": {
   "display_name": "Python 3",
   "language": "python",
   "name": "python3"
  },
  "language_info": {
   "codemirror_mode": {
    "name": "ipython",
    "version": 3
   },
   "file_extension": ".py",
   "mimetype": "text/x-python",
   "name": "python",
   "nbconvert_exporter": "python",
   "pygments_lexer": "ipython3",
   "version": "3.13.2"
  }
 },
 "nbformat": 4,
 "nbformat_minor": 2
}
