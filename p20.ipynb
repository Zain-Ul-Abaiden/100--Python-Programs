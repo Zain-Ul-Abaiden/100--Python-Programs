{
 "cells": [
  {
   "cell_type": "markdown",
   "metadata": {},
   "source": [
    "# Write a Python Program to Find Armstrong Number in an Interval."
   ]
  },
  {
   "cell_type": "code",
   "execution_count": 2,
   "metadata": {},
   "outputs": [
    {
     "name": "stdout",
     "output_type": "stream",
     "text": [
      "Armstrong numbers between 2 and 344 are:\n",
      "2\n",
      "3\n",
      "4\n",
      "5\n",
      "6\n",
      "7\n",
      "8\n",
      "9\n",
      "153\n"
     ]
    }
   ],
   "source": [
    "def is_armstrong(num):\n",
    "    num_digits = len(str(num))  # Count the number of digits\n",
    "    sum_of_powers = sum(int(digit) ** num_digits for digit in str(num))  # Compute sum of digits raised to power\n",
    "    return num == sum_of_powers  # Return True if Armstrong\n",
    "\n",
    "# Taking input for the interval\n",
    "lower = int(input(\"Enter the lower bound: \"))\n",
    "upper = int(input(\"Enter the upper bound: \"))\n",
    "\n",
    "print(f\"Armstrong numbers between {lower} and {upper} are:\")\n",
    "\n",
    "# Loop through the given range\n",
    "for num in range(lower, upper + 1):\n",
    "    if is_armstrong(num):\n",
    "        print(num)  # Print Armstrong number"
   ]
  }
 ],
 "metadata": {
  "kernelspec": {
   "display_name": "Python 3",
   "language": "python",
   "name": "python3"
  },
  "language_info": {
   "codemirror_mode": {
    "name": "ipython",
    "version": 3
   },
   "file_extension": ".py",
   "mimetype": "text/x-python",
   "name": "python",
   "nbconvert_exporter": "python",
   "pygments_lexer": "ipython3",
   "version": "3.13.2"
  }
 },
 "nbformat": 4,
 "nbformat_minor": 2
}
